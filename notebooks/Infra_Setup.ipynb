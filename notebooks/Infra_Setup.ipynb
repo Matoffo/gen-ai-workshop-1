{
 "cells": [
  {
   "cell_type": "code",
   "execution_count": null,
   "id": "1d204fb7-2124-43cf-bbf0-eb6d29d7e9ce",
   "metadata": {
    "tags": []
   },
   "outputs": [],
   "source": [
    "!pip install requests-aws4auth"
   ]
  },
  {
   "cell_type": "code",
   "execution_count": 1,
   "id": "8a885b49-1f57-4968-961c-f85d0bdde34e",
   "metadata": {
    "tags": []
   },
   "outputs": [],
   "source": [
    "import boto3\n",
    "import requests\n",
    "import json\n",
    "from requests_aws4auth import AWS4Auth"
   ]
  },
  {
   "cell_type": "markdown",
   "id": "26ab36a9-aadc-4f7d-bd64-6a865f82cea6",
   "metadata": {},
   "source": [
    "### Creating a new index in our OpenSearch Serverless collection"
   ]
  },
  {
   "cell_type": "code",
   "execution_count": null,
   "id": "829f010e-d62c-4d10-a221-be481b0aa7ed",
   "metadata": {
    "tags": []
   },
   "outputs": [],
   "source": [
    "aoss_client = boto3.client('opensearchserverless')\n",
    "coll_list_response = aoss_client.list_collections()\n",
    "\n",
    "matching_collections = [\n",
    "    collection for collection in coll_list_response.get(\"collectionSummaries\", [])\n",
    "    if collection['name'] == 'genai-vectors-collection'\n",
    "]\n",
    "\n",
    "assert len(matching_collections) == 1, \"Expected exactly 1 collection with specified name\"\n",
    "\n",
    "collection = matching_collections[0]\n",
    "collection_name = collection[\"name\"]\n",
    "collection_id = collection[\"id\"]  # Get the collection ID\n",
    "\n",
    "# Now, fetch the collection details using batch_get_collection\n",
    "collection_details_response = aoss_client.batch_get_collection(ids=[collection_id])\n",
    "\n",
    "# Extract collection endpoint\n",
    "collection_detail = collection_details_response.get(\"collectionDetails\", [])[0]\n",
    "collection_endpoint = collection_detail.get(\"collectionEndpoint\")\n",
    "\n",
    "print(f\"Found Collection: {collection['name']}\")\n",
    "print(f\"Endpoint: {collection_endpoint}\")"
   ]
  },
  {
   "cell_type": "code",
   "execution_count": null,
   "id": "edb57f1d-9bec-45f8-9f4a-0d3f86223994",
   "metadata": {
    "tags": []
   },
   "outputs": [],
   "source": [
    "INDEX_NAME = \"genai-vectors-collection\"\n",
    "\n",
    "index_mapping = {\n",
    "  \"settings\": {\n",
    "    \"index.knn\": True\n",
    "  },\n",
    "  \"mappings\": {\n",
    "    \"properties\": {\n",
    "      \"vector-field\": {\n",
    "        \"type\": \"knn_vector\",\n",
    "        \"dimension\": 1536,\n",
    "        \"method\": {\n",
    "          \"engine\": \"faiss\",\n",
    "          \"name\": \"hnsw\"\n",
    "        }\n",
    "      },\n",
    "      \"text\": {\n",
    "        \"type\": \"text\"\n",
    "      },\n",
    "      \"metadata\": {\n",
    "        \"type\": \"keyword\"\n",
    "      }\n",
    "    }\n",
    "  }\n",
    "}\n",
    "\n",
    "# OpenSearch API URL for index creation\n",
    "index_url = f\"{collection_endpoint}/{INDEX_NAME}\"\n",
    "\n",
    "# OpenSearch requires authentication (IAM or Basic Auth)\n",
    "headers = {\n",
    "    \"Content-Type\": \"application/json\"\n",
    "}\n",
    "\n",
    "session = boto3.Session()\n",
    "credentials = session.get_credentials()\n",
    "aws_auth = AWS4Auth(\n",
    "    credentials.access_key, credentials.secret_key,\n",
    "    session.region_name, \"aoss\",\n",
    "    session_token=credentials.token\n",
    ")\n",
    "\n",
    "# Send request to create index\n",
    "response = requests.put(index_url, auth=aws_auth, headers=headers, data=json.dumps(index_mapping))\n",
    "\n",
    "# Print response\n",
    "print(\"Index Creation Response:\", response.status_code, response.text)"
   ]
  },
  {
   "cell_type": "markdown",
   "id": "10bfd6d6-6a88-4de1-8e51-398f8a3fcd1f",
   "metadata": {},
   "source": [
    "### Creating a new CloudFormation stack\n",
    "\n",
    "Note: requires AWSCloudFormationFullAccess"
   ]
  },
  {
   "cell_type": "code",
   "execution_count": null,
   "id": "ae32b7b5-df43-4f3f-907e-9af4303075f0",
   "metadata": {
    "tags": []
   },
   "outputs": [],
   "source": [
    "cf_client = boto3.client(\"cloudformation\")\n",
    "\n",
    "KB_STACK_NAME = \"wshop-kb\"\n",
    "KB_YAML_FILE_PATH = \"../gen-ai-cloudformation/knowledge-base.yaml\"\n",
    "\n",
    "with open(KB_YAML_FILE_PATH, \"r\") as file:\n",
    "    template_body = file.read()\n",
    "\n",
    "response = cf_client.create_stack(\n",
    "    StackName=KB_STACK_NAME,\n",
    "    TemplateBody=template_body,\n",
    "    Capabilities=[\"CAPABILITY_IAM\", \"CAPABILITY_NAMED_IAM\"],  # Add if IAM roles are defined in the template\n",
    ")\n",
    "\n",
    "print(\"Stack creation started:\", response[\"StackId\"])\n",
    "response"
   ]
  },
  {
   "cell_type": "markdown",
   "id": "8190cb55-3342-4b17-9ef6-59b9fb2a72a4",
   "metadata": {},
   "source": [
    "#### Waiting for operation to complete"
   ]
  },
  {
   "cell_type": "code",
   "execution_count": null,
   "id": "ca7ac6d4-149b-4fb1-8a6d-dadc86190c16",
   "metadata": {
    "tags": []
   },
   "outputs": [],
   "source": [
    "import time\n",
    "\n",
    "max_time = 30\n",
    "\n",
    "\n",
    "def wait_for_stack(stack_name):\n",
    "    timeout = time.time() + max_time\n",
    "\n",
    "    while time.time() < timeout:\n",
    "        response = cf_client.describe_stacks(StackName=stack_name)\n",
    "        stack_status = response[\"Stacks\"][0][\"StackStatus\"]\n",
    "        print(f\"Stack Status: {stack_status}\")\n",
    "\n",
    "        if stack_status in [\"CREATE_COMPLETE\", \"ROLLBACK_IN_PROGRESS\", \"ROLLBACK_COMPLETE\", \"CREATE_FAILED\"]:\n",
    "            break\n",
    "\n",
    "        time.sleep(5)\n",
    "\n",
    "\n",
    "# Monitor the stack creation process\n",
    "wait_for_stack(KB_STACK_NAME)"
   ]
  },
  {
   "cell_type": "markdown",
   "id": "3752571f-deee-4de8-9497-e7bb5fdc694a",
   "metadata": {},
   "source": [
    "### Uploading an example document to S3"
   ]
  },
  {
   "cell_type": "code",
   "execution_count": null,
   "id": "f1b9e73d-24b5-4d2d-9f2e-e06f1f2e7a87",
   "metadata": {
    "tags": []
   },
   "outputs": [],
   "source": [
    "!ls"
   ]
  },
  {
   "cell_type": "code",
   "execution_count": 11,
   "id": "0f905686-dd8c-4b76-962f-ad06f3321c65",
   "metadata": {
    "tags": []
   },
   "outputs": [],
   "source": [
    "s3_client = boto3.client(\"s3\")\n",
    "sts_client = boto3.client(\"sts\")\n",
    "\n",
    "account_id = sts_client.get_caller_identity()[\"Account\"]\n",
    "\n",
    "example_file_name = \"wellarchitected-framework-pages-6-11.pdf\"\n",
    "BUCKET_NAME = \"genai-workshop-docs-\" + account_id\n",
    "LOCAL_FILE_PATH = \"../\" + example_file_name\n",
    "S3_OBJECT_KEY = \"docs/\" + example_file_name\n",
    "\n",
    "s3_client.upload_file(LOCAL_FILE_PATH, BUCKET_NAME, S3_OBJECT_KEY)"
   ]
  },
  {
   "cell_type": "markdown",
   "id": "8e405ee9-e763-43b5-a361-be8fcc6d54fe",
   "metadata": {},
   "source": [
    "### Starting a data source synchronization"
   ]
  },
  {
   "cell_type": "code",
   "execution_count": null,
   "id": "b1a5fe5f-51f4-469e-8533-b2e74c9e324c",
   "metadata": {
    "tags": []
   },
   "outputs": [],
   "source": [
    "bedrock_client = boto3.client(\"bedrock-agent\")\n",
    "\n",
    "KB_NAME = \"gen-ai-workshop-kb\"\n",
    "DATA_SOURCE_NAME = \"genai-workshop-kb-datasource\"\n",
    "\n",
    "kb_list = bedrock_client.list_knowledge_bases()\n",
    "kb_id = None\n",
    "for kb in kb_list[\"knowledgeBaseSummaries\"]:\n",
    "    if kb[\"name\"] == KB_NAME:\n",
    "        kb_id = kb[\"knowledgeBaseId\"]\n",
    "        break\n",
    "\n",
    "if not kb_id:\n",
    "    raise ValueError(f\"Knowledge Base '{KB_NAME}' not found.\")\n",
    "else:\n",
    "    print(f\"Knowledge Base '{KB_NAME}' found with ID: {kb_id}\")"
   ]
  },
  {
   "cell_type": "code",
   "execution_count": null,
   "id": "cb8779b8-4284-4923-9db6-7a2762e5f102",
   "metadata": {
    "tags": []
   },
   "outputs": [],
   "source": [
    "ds_list = bedrock_client.list_data_sources(knowledgeBaseId=kb_id)\n",
    "ds_id = None\n",
    "for ds in ds_list[\"dataSourceSummaries\"]:\n",
    "    if ds[\"name\"] == DATA_SOURCE_NAME:\n",
    "        ds_id = ds[\"dataSourceId\"]\n",
    "        break\n",
    "\n",
    "if not ds_id:\n",
    "    raise ValueError(f\"Data Source '{DATA_SOURCE_NAME}' not found in KB '{KB_NAME}'.\")\n",
    "else:\n",
    "    print(f\"Data Source '{DATA_SOURCE_NAME}' found\")\n",
    "\n",
    "sync_response = bedrock_client.start_ingestion_job(\n",
    "    knowledgeBaseId=kb_id,\n",
    "    dataSourceId=ds_id\n",
    ")\n",
    "\n",
    "print(\"Sync job started:\", sync_response[\"ingestionJob\"][\"ingestionJobId\"])"
   ]
  }
 ],
 "metadata": {
  "kernelspec": {
   "display_name": "conda_python3",
   "language": "python",
   "name": "conda_python3"
  },
  "language_info": {
   "codemirror_mode": {
    "name": "ipython",
    "version": 3
   },
   "file_extension": ".py",
   "mimetype": "text/x-python",
   "name": "python",
   "nbconvert_exporter": "python",
   "pygments_lexer": "ipython3",
   "version": "3.10.16"
  }
 },
 "nbformat": 4,
 "nbformat_minor": 5
}
