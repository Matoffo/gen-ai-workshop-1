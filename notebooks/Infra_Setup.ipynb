{
 "cells": [
  {
   "cell_type": "code",
   "execution_count": null,
   "id": "1d204fb7-2124-43cf-bbf0-eb6d29d7e9ce",
   "metadata": {
    "tags": []
   },
   "outputs": [],
   "source": [
    "!pip install requests-aws4auth"
   ]
  },
  {
   "cell_type": "code",
   "execution_count": 1,
   "id": "8a885b49-1f57-4968-961c-f85d0bdde34e",
   "metadata": {
    "tags": []
   },
   "outputs": [],
   "source": [
    "import boto3\n",
    "import requests\n",
    "import json\n",
    "from requests_aws4auth import AWS4Auth\n",
    "\n",
    "aoss_client = boto3.client('opensearchserverless')"
   ]
  },
  {
   "cell_type": "code",
   "execution_count": null,
   "id": "829f010e-d62c-4d10-a221-be481b0aa7ed",
   "metadata": {
    "tags": []
   },
   "outputs": [],
   "source": [
    "coll_list_response = aoss_client.list_collections()\n",
    "\n",
    "matching_collections = [\n",
    "    collection for collection in coll_list_response.get(\"collectionSummaries\", [])\n",
    "    if collection['name'] == 'genai-vectors-collection'\n",
    "]\n",
    "\n",
    "assert len(matching_collections) == 1, \"Expected exactly 1 collection with specified name\"\n",
    "\n",
    "collection = matching_collections[0]\n",
    "collection_name = collection[\"name\"]\n",
    "collection_id = collection[\"id\"]  # Get the collection ID\n",
    "\n",
    "# Now, fetch the collection details using batch_get_collection\n",
    "collection_details_response = aoss_client.batch_get_collection(ids=[collection_id])\n",
    "\n",
    "# Extract collection endpoint\n",
    "collection_detail = collection_details_response.get(\"collectionDetails\", [])[0]\n",
    "collection_endpoint = collection_detail.get(\"collectionEndpoint\")\n",
    "\n",
    "print(f\"Found Collection: {collection['name']}\")\n",
    "print(f\"Endpoint: {collection_endpoint}\")"
   ]
  },
  {
   "cell_type": "code",
   "execution_count": null,
   "id": "edb57f1d-9bec-45f8-9f4a-0d3f86223994",
   "metadata": {
    "tags": []
   },
   "outputs": [],
   "source": [
    "INDEX_NAME = \"genai-vectors-collection\"\n",
    "\n",
    "index_mapping = {\n",
    "  \"settings\": {\n",
    "    \"index.knn\": True\n",
    "  },\n",
    "  \"mappings\": {\n",
    "    \"properties\": {\n",
    "      \"vector-field\": {\n",
    "        \"type\": \"knn_vector\",\n",
    "        \"dimension\": 1536,\n",
    "        \"method\": {\n",
    "          \"engine\": \"faiss\",\n",
    "          \"name\": \"hnsw\"\n",
    "        }\n",
    "      },\n",
    "      \"text\": {\n",
    "        \"type\": \"text\"\n",
    "      },\n",
    "      \"metadata\": {\n",
    "        \"type\": \"keyword\"\n",
    "      }\n",
    "    }\n",
    "  }\n",
    "}\n",
    "\n",
    "# OpenSearch API URL for index creation\n",
    "index_url = f\"{collection_endpoint}/{INDEX_NAME}\"\n",
    "\n",
    "# OpenSearch requires authentication (IAM or Basic Auth)\n",
    "headers = {\n",
    "    \"Content-Type\": \"application/json\"\n",
    "}\n",
    "\n",
    "session = boto3.Session()\n",
    "credentials = session.get_credentials()\n",
    "aws_auth = AWS4Auth(\n",
    "    credentials.access_key, credentials.secret_key,\n",
    "    session.region_name, \"aoss\",\n",
    "    session_token=credentials.token\n",
    ")\n",
    "\n",
    "# Send request to create index\n",
    "response = requests.put(index_url, auth=aws_auth, headers=headers, data=json.dumps(index_mapping))\n",
    "\n",
    "# Print response\n",
    "print(\"Index Creation Response:\", response.status_code, response.text)"
   ]
  }
 ],
 "metadata": {
  "kernelspec": {
   "display_name": "conda_python3",
   "language": "python",
   "name": "conda_python3"
  },
  "language_info": {
   "codemirror_mode": {
    "name": "ipython",
    "version": 3
   },
   "file_extension": ".py",
   "mimetype": "text/x-python",
   "name": "python",
   "nbconvert_exporter": "python",
   "pygments_lexer": "ipython3",
   "version": "3.10.16"
  }
 },
 "nbformat": 4,
 "nbformat_minor": 5
}
